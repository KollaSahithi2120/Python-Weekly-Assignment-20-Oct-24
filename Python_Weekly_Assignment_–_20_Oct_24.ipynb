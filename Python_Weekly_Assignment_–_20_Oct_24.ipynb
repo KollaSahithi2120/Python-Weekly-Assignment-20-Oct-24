{
  "nbformat": 4,
  "nbformat_minor": 0,
  "metadata": {
    "colab": {
      "provenance": []
    },
    "kernelspec": {
      "name": "python3",
      "display_name": "Python 3"
    },
    "language_info": {
      "name": "python"
    }
  },
  "cells": [
    {
      "cell_type": "markdown",
      "source": [
        "### **Python Weekly Assignment –  20-Oct-24**"
      ],
      "metadata": {
        "id": "ZyWHgSR0TVSN"
      }
    },
    {
      "cell_type": "markdown",
      "source": [
        "### **Analyzing Student Performance**"
      ],
      "metadata": {
        "id": "3tQAs3_1M5LD"
      }
    },
    {
      "cell_type": "code",
      "execution_count": 36,
      "metadata": {
        "colab": {
          "base_uri": "https://localhost:8080/"
        },
        "id": "8w59kqNNK3X_",
        "outputId": "a27c2fcb-8898-43c8-d8ed-47388f268c73"
      },
      "outputs": [
        {
          "output_type": "stream",
          "name": "stdout",
          "text": [
            "Skipping entry with NaN score: Frank\n",
            "Skipping entry with no score: Hannah\n",
            "Average Score: 84.71\n",
            "Students who scored above average:\n",
            "Alice\n",
            "Charlie\n",
            "David\n",
            "Ivy\n"
          ]
        }
      ],
      "source": [
        "dataset = \"\"\"Alice,85\n",
        "Bob,78\n",
        "Charlie,92\n",
        "David,88\n",
        "Eve,73\n",
        "Frank,NaN\n",
        "Hannah,\n",
        "Ivy,95\n",
        "Jack,82\n",
        "\"\"\"\n",
        "\n",
        "with open('scores.txt', 'w') as file:\n",
        "    file.write(dataset)\n",
        "\n",
        "def read_student_scores(filename):\n",
        "    try:\n",
        "        with open(filename, 'r') as file:\n",
        "            lines = file.readlines()\n",
        "\n",
        "        scores = {}\n",
        "        for line in lines:\n",
        "            try:\n",
        "                name, score = line.strip().split(',')\n",
        "                if score.strip():\n",
        "                    score = float(score) if score.lower() != 'nan' else None\n",
        "                    if score is not None:\n",
        "                        scores[name] = score\n",
        "                    else:\n",
        "                        print(f\"Skipping entry with NaN score: {name}\")\n",
        "                else:\n",
        "                    print(f\"Skipping entry with no score: {name}\")\n",
        "            except ValueError:\n",
        "                print(f\"Skipping invalid entry: {line.strip()}\")\n",
        "\n",
        "        return scores\n",
        "\n",
        "    except FileNotFoundError:\n",
        "        print(f\"Error: The file '{filename}' was not found.\")\n",
        "        return {}\n",
        "    except Exception as e:\n",
        "        print(f\"An unexpected error occurred: {e}\")\n",
        "        return {}\n",
        "\n",
        "def calculate_average(scores):\n",
        "    if not scores:\n",
        "        return 0\n",
        "    return sum(scores.values()) / len(scores)\n",
        "\n",
        "def students_above_average(scores, average):\n",
        "    return [name for name, score in scores.items() if score > average]\n",
        "\n",
        "def main():\n",
        "    filename = 'scores.txt'\n",
        "    scores = read_student_scores(filename)\n",
        "\n",
        "    if scores:\n",
        "        average_score = calculate_average(scores)\n",
        "        print(f\"Average Score: {average_score:.2f}\")\n",
        "\n",
        "        above_average_students = students_above_average(scores, average_score)\n",
        "        print(\"Students who scored above average:\")\n",
        "        for student in above_average_students:\n",
        "            print(student)\n",
        "    else:\n",
        "        print(\"No valid scores available.\")\n",
        "main()\n"
      ]
    },
    {
      "cell_type": "markdown",
      "source": [
        "### **Product Availability in a Store**"
      ],
      "metadata": {
        "id": "eTrE_xyeNAER"
      }
    },
    {
      "cell_type": "code",
      "source": [
        "def clean_product_list(product_ids):\n",
        "    if not product_ids:\n",
        "        return []\n",
        "    cleaned_list = sorted(set(product_ids))\n",
        "\n",
        "    return cleaned_list\n",
        "\n",
        "\n",
        "if __name__ == \"__main__\":\n",
        "    product_list = [101, 202, 303, 101, 404, 202, 505, 606, 505]\n",
        "    cleaned_product_list = clean_product_list(product_list)\n",
        "\n",
        "    print(\"Cleaned Product List:\", cleaned_product_list)\n"
      ],
      "metadata": {
        "colab": {
          "base_uri": "https://localhost:8080/"
        },
        "id": "ubWJIKwWLm1N",
        "outputId": "7a643473-c09a-4536-d989-5230880a35f5"
      },
      "execution_count": 37,
      "outputs": [
        {
          "output_type": "stream",
          "name": "stdout",
          "text": [
            "Cleaned Product List: [101, 202, 303, 404, 505, 606]\n"
          ]
        }
      ]
    },
    {
      "cell_type": "markdown",
      "source": [
        "### **Organizing Sales Data**"
      ],
      "metadata": {
        "id": "0Iv8K66sNEdK"
      }
    },
    {
      "cell_type": "code",
      "source": [
        "def organize_sales_data(sales_data):\n",
        "    customer_spending = {}\n",
        "    for customer, amount in sales_data:\n",
        "        if customer in customer_spending:\n",
        "            customer_spending[customer] += amount\n",
        "        else:\n",
        "            customer_spending[customer] = amount\n",
        "\n",
        "    return dict(sorted(customer_spending.items()))\n",
        "\n",
        "if __name__ == \"__main__\":\n",
        "    sales_data = [\n",
        "        ('Alice', 200),\n",
        "        ('Bob', 150),\n",
        "        ('Alice', 300),\n",
        "        ('Charlie', 100),\n",
        "        ('Bob', 50),\n",
        "        ('David', 400)\n",
        "    ]\n",
        "    organized_data = organize_sales_data(sales_data)\n",
        "    print(\"Customer Spending Data:\")\n",
        "    for customer, total in organized_data.items():\n",
        "        print(f\"{customer}: ${total}\")\n"
      ],
      "metadata": {
        "colab": {
          "base_uri": "https://localhost:8080/"
        },
        "id": "bQKzeAslLyXv",
        "outputId": "4955e70a-fd5f-4c97-f3b0-d302e0eaa7c8"
      },
      "execution_count": 38,
      "outputs": [
        {
          "output_type": "stream",
          "name": "stdout",
          "text": [
            "Customer Spending Data:\n",
            "Alice: $500\n",
            "Bob: $200\n",
            "Charlie: $100\n",
            "David: $400\n"
          ]
        }
      ]
    },
    {
      "cell_type": "markdown",
      "source": [
        "### **Saving User Preferences**"
      ],
      "metadata": {
        "id": "v6hHiPVLNI3W"
      }
    },
    {
      "cell_type": "code",
      "source": [
        "import pickle\n",
        "import os\n",
        "default_preferences = {\n",
        "    'theme': 'light',\n",
        "    'language': 'English',\n",
        "    'notifications': True\n",
        "}\n",
        "\n",
        "def save_preferences(preferences, filename='user_preferences.pkl'):\n",
        "    with open(filename, 'wb') as file:\n",
        "        pickle.dump(preferences, file)\n",
        "    print(\"Preferences have been saved.\")\n",
        "\n",
        "def load_preferences(filename='user_preferences.pkl'):\n",
        "    if not os.path.exists(filename):\n",
        "        print(\"Preferences file not found. Loading default preferences.\")\n",
        "        return default_preferences\n",
        "\n",
        "    try:\n",
        "        with open(filename, 'rb') as file:\n",
        "            preferences = pickle.load(file)\n",
        "            print(\"Preferences loaded successfully.\")\n",
        "            return preferences\n",
        "    except (pickle.UnpicklingError, EOFError, FileNotFoundError):\n",
        "        print(\"Error: Preferences file is corrupted. Loading default preferences.\")\n",
        "        return default_preferences\n",
        "\n",
        "def update_preferences(preferences):\n",
        "    theme = input(f\"Choose theme (light/dark) [{preferences['theme']}]: \") or preferences['theme']\n",
        "    language = input(f\"Choose language (English/French) [{preferences['language']}]: \") or preferences['language']\n",
        "    notifications = input(f\"Enable notifications (yes/no) [{preferences['notifications']}]: \") or preferences['notifications']\n",
        "\n",
        "    preferences['theme'] = theme\n",
        "    preferences['language'] = language\n",
        "    preferences['notifications'] = notifications.lower() == 'yes'\n",
        "    return preferences\n",
        "\n",
        "\n",
        "if __name__ == \"__main__\":\n",
        "    user_preferences = load_preferences()\n",
        "\n",
        "    print(\"Current Preferences:\", user_preferences)\n",
        "\n",
        "    user_preferences = update_preferences(user_preferences)\n",
        "\n",
        "    save_preferences(user_preferences)\n",
        "\n",
        "    print(\"Updated Preferences:\", user_preferences)\n"
      ],
      "metadata": {
        "colab": {
          "base_uri": "https://localhost:8080/"
        },
        "id": "HKX1AGwPL9VN",
        "outputId": "184b022a-a46b-4367-8aa8-a50c8630e0d4"
      },
      "execution_count": 39,
      "outputs": [
        {
          "output_type": "stream",
          "name": "stdout",
          "text": [
            "Preferences loaded successfully.\n",
            "Current Preferences: {'theme': 'dark', 'language': 'english', 'notifications': True}\n",
            "Choose theme (light/dark) [dark]: dark\n",
            "Choose language (English/French) [english]: french\n",
            "Enable notifications (yes/no) [True]: no\n",
            "Preferences have been saved.\n",
            "Updated Preferences: {'theme': 'dark', 'language': 'french', 'notifications': False}\n"
          ]
        }
      ]
    },
    {
      "cell_type": "markdown",
      "source": [
        "### **Analyzing Employee Salaries**"
      ],
      "metadata": {
        "id": "sjtc0wtsNNCJ"
      }
    },
    {
      "cell_type": "code",
      "source": [
        "import pandas as pd\n",
        "import os\n",
        "\n",
        "def create_employee_data_file(filename='employee_data.csv'):\n",
        "    \"\"\"Create an employee data CSV file with sample data.\"\"\"\n",
        "    data = {\n",
        "        'name': ['Alice', 'Bob', 'Charlie', 'David', 'Eve', 'Frank', 'Grace'],\n",
        "        'department': ['Engineering', 'Marketing', 'Engineering', 'Sales', 'Marketing', 'Engineering', 'Sales'],\n",
        "        'salary': ['70000', '50000', '80000', '45000', '60000', 'invalid_data', '55000']\n",
        "    }\n",
        "    df = pd.DataFrame(data)\n",
        "    df.to_csv(filename, index=False)\n",
        "    print(f\"File '{filename}' created with employee data.\")\n",
        "\n",
        "def analyze_salaries(input_file='employee_data.csv', output_file='salary_analysis.csv'):\n",
        "    try:\n",
        "        if not os.path.exists(input_file):\n",
        "            print(f\"Error: The file '{input_file}' does not exist.\")\n",
        "            return\n",
        "\n",
        "        df = pd.read_csv(input_file)\n",
        "\n",
        "\n",
        "        if not {'department', 'salary'}.issubset(df.columns):\n",
        "            print(f\"Error: The input file '{input_file}' does not contain required columns 'department' and 'salary'.\")\n",
        "            return\n",
        "\n",
        "        df['salary'] = pd.to_numeric(df['salary'], errors='coerce')\n",
        "\n",
        "        df = df.dropna(subset=['salary'])\n",
        "\n",
        "        salary_analysis = df.groupby('department')['salary'].agg(['sum', 'mean']).reset_index()\n",
        "\n",
        "        salary_analysis.columns = ['Department', 'Total Salary', 'Average Salary']\n",
        "\n",
        "        salary_analysis.to_csv(output_file, index=False)\n",
        "        print(f\"Salary analysis has been saved to '{output_file}'.\")\n",
        "\n",
        "    except pd.errors.EmptyDataError:\n",
        "        print(f\"Error: The file '{input_file}' is empty or contains invalid data.\")\n",
        "    except Exception as e:\n",
        "        print(f\"An error occurred: {e}\")\n",
        "\n",
        "if __name__ == \"__main__\":\n",
        "    create_employee_data_file()\n",
        "    analyze_salaries('employee_data.csv', 'salary_analysis.csv')\n"
      ],
      "metadata": {
        "colab": {
          "base_uri": "https://localhost:8080/"
        },
        "id": "O_NrEpgNMVS7",
        "outputId": "0a977bea-4d03-4051-d7b3-9bd1a09382fa"
      },
      "execution_count": 40,
      "outputs": [
        {
          "output_type": "stream",
          "name": "stdout",
          "text": [
            "File 'employee_data.csv' created with employee data.\n",
            "Salary analysis has been saved to 'salary_analysis.csv'.\n"
          ]
        }
      ]
    },
    {
      "cell_type": "markdown",
      "source": [
        "### ** Validating User Signups**"
      ],
      "metadata": {
        "id": "FvW_1ogoNxn0"
      }
    },
    {
      "cell_type": "code",
      "source": [
        "import re\n",
        "\n",
        "def validate_email(email):\n",
        "    email_regex = r'\\b[A-Za-z0-9._%+-]+@[A-Za-z0-9.-]+\\.[A-Z|a-z]{2,7}\\b'\n",
        "    if re.match(email_regex, email):\n",
        "        return True\n",
        "    return False\n",
        "\n",
        "def filter_invalid_emails(email_list):\n",
        "    valid_emails = [email for email in email_list if validate_email(email)]\n",
        "    return valid_emails\n",
        "\n",
        "if __name__ == \"__main__\":\n",
        "    email_list = [\n",
        "        \"user@example.com\",\n",
        "        \"invalid-email.com\",\n",
        "        \"user@domain.co\",\n",
        "        \"user@domain.\",\n",
        "        \"another_user@domain.org\",\n",
        "        \"123user@domain.net\",\n",
        "        \"wrong@domain@com\",\n",
        "        \"@missingusername.com\"\n",
        "    ]\n",
        "\n",
        "    valid_emails = filter_invalid_emails(email_list)\n",
        "\n",
        "    print(\"Valid Emails:\")\n",
        "    for email in valid_emails:\n",
        "        print(email)\n"
      ],
      "metadata": {
        "colab": {
          "base_uri": "https://localhost:8080/"
        },
        "id": "h8SuoWCiNw4f",
        "outputId": "5cc7256e-f681-4397-e4e4-03d41520117f"
      },
      "execution_count": 41,
      "outputs": [
        {
          "output_type": "stream",
          "name": "stdout",
          "text": [
            "Valid Emails:\n",
            "user@example.com\n",
            "user@domain.co\n",
            "another_user@domain.org\n",
            "123user@domain.net\n"
          ]
        }
      ]
    },
    {
      "cell_type": "markdown",
      "source": [
        "### **Currency Conversion Calculator**"
      ],
      "metadata": {
        "id": "DbcnGujlOci8"
      }
    },
    {
      "cell_type": "code",
      "source": [
        "def currency_conversion():\n",
        "    try:\n",
        "        amount = float(input(\"Enter the amount to convert: \"))\n",
        "        conversion_rate = float(input(\"Enter the conversion rate: \"))\n",
        "\n",
        "        if conversion_rate == 0:\n",
        "            print(\"Error: Conversion rate cannot be zero.\")\n",
        "            return\n",
        "        converted_amount = amount * conversion_rate\n",
        "        print(f\"Converted amount: {converted_amount:.2f}\")\n",
        "\n",
        "    except ValueError:\n",
        "        print(\"Error: Please enter a valid numeric value.\")\n",
        "\n",
        "if __name__ == \"__main__\":\n",
        "    currency_conversion()\n"
      ],
      "metadata": {
        "colab": {
          "base_uri": "https://localhost:8080/"
        },
        "id": "ayGf5nUEOzQI",
        "outputId": "b8f4475b-3aed-49c0-c4a0-545a6497b65f"
      },
      "execution_count": 42,
      "outputs": [
        {
          "output_type": "stream",
          "name": "stdout",
          "text": [
            "Enter the amount to convert: 100\n",
            "Enter the conversion rate: 0\n",
            "Error: Conversion rate cannot be zero.\n"
          ]
        }
      ]
    },
    {
      "cell_type": "markdown",
      "source": [
        "### **Movie Ratings Aggregation**"
      ],
      "metadata": {
        "id": "HmyTqupLTZYZ"
      }
    },
    {
      "cell_type": "code",
      "source": [
        "def filter_and_square_ratings(ratings):\n",
        "    if not ratings:\n",
        "        print(\"No ratings provided.\")\n",
        "        return []\n",
        "\n",
        "    good_ratings_squared = [rating**2 for rating in ratings if rating >= 5]\n",
        "\n",
        "    return good_ratings_squared\n",
        "\n",
        "if __name__ == \"__main__\":\n",
        "    ratings = [2, 7, 5, 10, 4, 6, 9]\n",
        "\n",
        "    result = filter_and_square_ratings(ratings)\n",
        "\n",
        "    if result:\n",
        "        print(\"Good ratings squared:\", result)\n"
      ],
      "metadata": {
        "colab": {
          "base_uri": "https://localhost:8080/"
        },
        "id": "I3nCsmdcTd0_",
        "outputId": "121be7f8-535e-4127-95e9-3c70cd8abc7f"
      },
      "execution_count": 43,
      "outputs": [
        {
          "output_type": "stream",
          "name": "stdout",
          "text": [
            "Good ratings squared: [49, 25, 100, 36, 81]\n"
          ]
        }
      ]
    },
    {
      "cell_type": "markdown",
      "source": [
        "**Extracting Contact Information** wrong"
      ],
      "metadata": {
        "id": "56rSIelsT2wT"
      }
    },
    {
      "cell_type": "code",
      "source": [
        "import re\n",
        "\n",
        "def create_input_file():\n",
        "    data = \"\"\"\n",
        "    John Doe: (123) 456-7890\n",
        "    Jane Smith: 123-456-7890\n",
        "    Invalid Phone: 1234567890\n",
        "    Another Client: (987) 654-3210\n",
        "    Random Text: Call me maybe\n",
        "    Invalid Format: (123 456-7890\n",
        "    Extra Invalid: 123-45-67890\n",
        "    Not a number: (123)4567890\n",
        "    \"\"\"\n",
        "    with open('client_data.txt', 'w') as file:\n",
        "        file.write(data)\n",
        "\n",
        "def extract_phone_numbers(filename):\n",
        "    phone_number_pattern = r'\\(\\d{3}\\)\\s\\d{3}-\\d{4}|\\d{3}-\\d{3}-\\d{4}'\n",
        "\n",
        "    try:\n",
        "        with open(filename, 'r') as file:\n",
        "            content = file.read()\n",
        "        phone_numbers = re.findall(phone_number_pattern, content)\n",
        "        if phone_numbers:\n",
        "            print(\"Valid phone numbers found:\")\n",
        "            for number in phone_numbers:\n",
        "                print(number)\n",
        "        else:\n",
        "            print(\"No valid phone numbers found.\")\n",
        "\n",
        "    except FileNotFoundError:\n",
        "        print(f\"Error: The file '{filename}' does not exist.\")\n",
        "    except Exception as e:\n",
        "        print(f\"An error occurred: {e}\")\n",
        "\n",
        "\n",
        "if __name__ == \"__main__\":\n",
        "    create_input_file()\n",
        "    extract_phone_numbers('client_data.txt')\n"
      ],
      "metadata": {
        "colab": {
          "base_uri": "https://localhost:8080/"
        },
        "id": "oShRy50ET5SI",
        "outputId": "9c5ce29d-7c60-4a30-98fb-e28f63a6b95b"
      },
      "execution_count": 44,
      "outputs": [
        {
          "output_type": "stream",
          "name": "stdout",
          "text": [
            "Valid phone numbers found:\n",
            "(123) 456-7890\n",
            "123-456-7890\n",
            "(987) 654-3210\n"
          ]
        }
      ]
    },
    {
      "cell_type": "markdown",
      "source": [
        "### ** Removing Duplicate User Data**"
      ],
      "metadata": {
        "id": "uLsxpb3bWsml"
      }
    },
    {
      "cell_type": "code",
      "source": [
        "def remove_duplicates(customer_records):\n",
        "    unique_customers = set(customer_records)\n",
        "    return list(unique_customers)\n",
        "\n",
        "def main():\n",
        "\n",
        "    customer_records = [\n",
        "        ('John Doe', 'john@example.com'),\n",
        "        ('Jane Smith', 'jane@example.com'),\n",
        "        ('Alice Johnson', 'alice@example.com'),\n",
        "        ('John Doe', 'john@example.com'),\n",
        "        ('Bob Brown', 'bob@example.com'),\n",
        "        ('Jane Smith', 'jane@example.com'),\n",
        "        ('Charlie White', 'charlie@example.com')\n",
        "    ]\n",
        "\n",
        "    unique_customers = remove_duplicates(customer_records)\n",
        "\n",
        "    print(\"Unique customer records:\")\n",
        "    for customer in unique_customers:\n",
        "        print(customer)\n",
        "\n",
        "if __name__ == \"__main__\":\n",
        "    main()\n"
      ],
      "metadata": {
        "colab": {
          "base_uri": "https://localhost:8080/"
        },
        "id": "HhZeNKkzVu3k",
        "outputId": "42697b2d-b5e4-43ce-94db-31048d2c3e7f"
      },
      "execution_count": 45,
      "outputs": [
        {
          "output_type": "stream",
          "name": "stdout",
          "text": [
            "Unique customer records:\n",
            "('Charlie White', 'charlie@example.com')\n",
            "('John Doe', 'john@example.com')\n",
            "('Alice Johnson', 'alice@example.com')\n",
            "('Bob Brown', 'bob@example.com')\n",
            "('Jane Smith', 'jane@example.com')\n"
          ]
        }
      ]
    },
    {
      "cell_type": "markdown",
      "source": [
        "### ** Product Inventory Analysis**"
      ],
      "metadata": {
        "id": "VIc-2H9Gc49K"
      }
    },
    {
      "cell_type": "code",
      "source": [
        "import pandas as pd\n",
        "\n",
        "def create_sample_inventory(csv_file):\n",
        "    data = {\n",
        "        \"product_id\": [101, 102, 103, 104, 105],\n",
        "        \"name\": [\"Product A\", \"Product B\", \"Product C\", \"Product D\", \"Product E\"],\n",
        "        \"quantity\": [5, 15, 8, 20, 3]\n",
        "    }\n",
        "\n",
        "    df = pd.DataFrame(data)\n",
        "    df.to_csv(csv_file, index=False)\n",
        "    print(f\"Sample inventory CSV file created: {csv_file}\")\n",
        "\n",
        "def filter_low_stock_products(csv_file):\n",
        "    try:\n",
        "        df = pd.read_csv(csv_file)\n",
        "\n",
        "        required_columns = ['product_id', 'name', 'quantity']\n",
        "        if not all(col in df.columns for col in required_columns):\n",
        "            raise ValueError(f\"Missing columns. Required columns are: {required_columns}\")\n",
        "\n",
        "        low_stock_df = df[df['quantity'] < 10]\n",
        "\n",
        "        if low_stock_df.empty:\n",
        "            print(\"No products with low stock found.\")\n",
        "        else:\n",
        "            print(\"Products with low stock:\")\n",
        "            print(low_stock_df)\n",
        "\n",
        "    except FileNotFoundError:\n",
        "        print(f\"Error: The file '{csv_file}' was not found.\")\n",
        "\n",
        "    except pd.errors.EmptyDataError:\n",
        "        print(\"Error: The file is empty or malformed.\")\n",
        "\n",
        "    except pd.errors.ParserError:\n",
        "        print(\"Error: The file could not be parsed, possibly due to a malformed CSV.\")\n",
        "\n",
        "    except ValueError as ve:\n",
        "        print(f\"Error: {ve}\")\n",
        "\n",
        "csv_file_path = \"products_inventory.csv\"\n",
        "\n",
        "create_sample_inventory(csv_file_path)\n",
        "\n",
        "filter_low_stock_products(csv_file_path)\n"
      ],
      "metadata": {
        "colab": {
          "base_uri": "https://localhost:8080/"
        },
        "id": "N9kOW5f3c4Ot",
        "outputId": "a9b66252-5d18-47af-967d-3528bbd3d149"
      },
      "execution_count": 46,
      "outputs": [
        {
          "output_type": "stream",
          "name": "stdout",
          "text": [
            "Sample inventory CSV file created: products_inventory.csv\n",
            "Products with low stock:\n",
            "   product_id       name  quantity\n",
            "0         101  Product A         5\n",
            "2         103  Product C         8\n",
            "4         105  Product E         3\n"
          ]
        }
      ]
    },
    {
      "cell_type": "markdown",
      "source": [
        "### **Statistical Analysis for a Sports Team**"
      ],
      "metadata": {
        "id": "Wli1q3bz1l8J"
      }
    },
    {
      "cell_type": "code",
      "source": [
        "import numpy as np\n",
        "\n",
        "def analyze_player_performance(num_players, num_games):\n",
        "    scores = np.random.randint(0, 101, size=(num_players, num_games))\n",
        "    mean_scores = np.mean(scores, axis=1)\n",
        "    median_scores = np.median(scores, axis=1)\n",
        "    variance_scores = np.var(scores, axis=1)\n",
        "    std_dev_scores = np.std(scores, axis=1)\n",
        "\n",
        "\n",
        "    print(\"Mean scores for each player:\", mean_scores)\n",
        "    print(\"Median scores for each player:\", median_scores)\n",
        "    print(\"Variance in scores for each player:\", variance_scores)\n",
        "    print(\"Standard deviation of scores for each player:\", std_dev_scores)\n",
        "\n",
        "    return scores, mean_scores, median_scores, variance_scores, std_dev_scores\n",
        "\n",
        "num_players = 10\n",
        "num_games = 20\n",
        "\n",
        "analyze_player_performance(num_players, num_games)\n"
      ],
      "metadata": {
        "colab": {
          "base_uri": "https://localhost:8080/"
        },
        "id": "ZIXHOFBY1rwJ",
        "outputId": "b64bd097-b79c-4247-fae2-6127836b1a15"
      },
      "execution_count": 47,
      "outputs": [
        {
          "output_type": "stream",
          "name": "stdout",
          "text": [
            "Mean scores for each player: [58.25 50.4  57.8  53.95 51.3  53.85 50.1  44.65 57.35 45.1 ]\n",
            "Median scores for each player: [64.  52.5 62.  47.  55.  60.5 52.5 41.  59.  40. ]\n",
            "Variance in scores for each player: [ 819.1875  822.84    933.76    880.1475 1093.71   1079.2275  568.09\n",
            "  943.1275  680.1275  664.49  ]\n",
            "Standard deviation of scores for each player: [28.62145175 28.68518782 30.55748681 29.66727996 33.07128664 32.85159813\n",
            " 23.83463866 30.71038098 26.07925421 25.77770354]\n"
          ]
        },
        {
          "output_type": "execute_result",
          "data": {
            "text/plain": [
              "(array([[ 41,  70,  67,  50,  94,  85,  30, 100,  39,  89,  69,  13,  61,\n",
              "           0,  69,  85,   8,  89,  49,  57],\n",
              "        [ 64,  72,  42,   4,   4,  38,  35,  50,  12,  55,  91,  66,  37,\n",
              "          73,  85,  64,  91,  22,  12,  91],\n",
              "        [ 56,  86,   1,  34,  12,  98,  99,  85,  61,  63,  90,  84,  66,\n",
              "          25,  33,   6,  64,  54,  43,  96],\n",
              "        [ 46,   9,  15,  72, 100,  38, 100,  31,  73,  48,  94,  36,  39,\n",
              "          41,  79,  91,  17,  72,  69,   9],\n",
              "        [ 32,   3,  79,  67,   1,  79,   8,   4,  82,  85,  35,  86,  71,\n",
              "          37,  20,  23,  92,  80,  43,  99],\n",
              "        [ 99,   0,  63,   1,  84,  78,  38,  17,  98,  68,  20,  61,  60,\n",
              "           3,  57,  34,  30,  83,  87,  96],\n",
              "        [ 99,  24,  86,  64,  33,  36,  77,   9,  19,  54,  52,  43,  41,\n",
              "          12,  68,  39,  53,  77,  62,  54],\n",
              "        [ 87,  32,  53,  50,  12,   8,  92,  69,   0,  73,  21,  15,  75,\n",
              "          22,  66,  95,  69,  27,  19,   8],\n",
              "        [ 86,  62,  47,  88,  17,  95,  67,  85,  51,  73,  90,  24,  56,\n",
              "          22,  51,  12,  77,  78,  33,  33],\n",
              "        [ 88,  61,  20,  33,  29,  81,  71,  12,  36,  59,  40,   4,  50,\n",
              "          40,  66,  19,  72,  85,   9,  27]]),\n",
              " array([58.25, 50.4 , 57.8 , 53.95, 51.3 , 53.85, 50.1 , 44.65, 57.35,\n",
              "        45.1 ]),\n",
              " array([64. , 52.5, 62. , 47. , 55. , 60.5, 52.5, 41. , 59. , 40. ]),\n",
              " array([ 819.1875,  822.84  ,  933.76  ,  880.1475, 1093.71  , 1079.2275,\n",
              "         568.09  ,  943.1275,  680.1275,  664.49  ]),\n",
              " array([28.62145175, 28.68518782, 30.55748681, 29.66727996, 33.07128664,\n",
              "        32.85159813, 23.83463866, 30.71038098, 26.07925421, 25.77770354]))"
            ]
          },
          "metadata": {},
          "execution_count": 47
        }
      ]
    },
    {
      "cell_type": "markdown",
      "source": [
        "### **Managing Task Lists**"
      ],
      "metadata": {
        "id": "6b8CUard2RBT"
      }
    },
    {
      "cell_type": "code",
      "source": [
        "import pickle\n",
        "def save_tasks(task_list, filename):\n",
        "    try:\n",
        "        with open(filename, 'wb') as file:\n",
        "            pickle.dump(task_list, file)\n",
        "        print(f\"Tasks saved successfully to {filename}.\")\n",
        "    except Exception as e:\n",
        "        print(f\"An error occurred while saving the tasks: {e}\")\n",
        "\n",
        "def load_tasks(filename):\n",
        "    try:\n",
        "        with open(filename, 'rb') as file:\n",
        "            task_list = pickle.load(file)\n",
        "        print(\"Tasks loaded successfully.\")\n",
        "        return task_list\n",
        "    except FileNotFoundError:\n",
        "        print(f\"Error: The file '{filename}' was not found.\")\n",
        "        return []\n",
        "    except pickle.UnpicklingError:\n",
        "        print(\"Error: The file is corrupted and cannot be loaded.\")\n",
        "        return []\n",
        "    except Exception as e:\n",
        "        print(f\"An error occurred while loading the tasks: {e}\")\n",
        "        return []\n",
        "\n",
        "\n",
        "def task_management():\n",
        "    filename = \"tasks.pkl\"\n",
        "    tasks = load_tasks(filename)\n",
        "\n",
        "    while True:\n",
        "        print(\"\\nTask Management Menu:\")\n",
        "        print(\"1. View Tasks\")\n",
        "        print(\"2. Add Task\")\n",
        "        print(\"3. Save and Exit\")\n",
        "        choice = input(\"Enter your choice: \")\n",
        "\n",
        "        if choice == \"1\":\n",
        "            if tasks:\n",
        "                print(\"\\nYour To-Do List:\")\n",
        "                for i, task in enumerate(tasks, 1):\n",
        "                    print(f\"{i}. {task}\")\n",
        "            else:\n",
        "                print(\"No tasks found.\")\n",
        "\n",
        "        elif choice == \"2\":\n",
        "            new_task = input(\"Enter the new task: \")\n",
        "            tasks.append(new_task)\n",
        "            print(f\"Task '{new_task}' added to the list.\")\n",
        "\n",
        "        elif choice == \"3\":\n",
        "            save_tasks(tasks, filename)\n",
        "            print(\"Exiting task management system.\")\n",
        "            break\n",
        "\n",
        "        else:\n",
        "            print(\"Invalid choice, please try again.\")\n",
        "\n",
        "task_management()\n"
      ],
      "metadata": {
        "colab": {
          "base_uri": "https://localhost:8080/"
        },
        "id": "yynS5UTk2QfG",
        "outputId": "ffdd3de1-8ca8-4041-9070-c4d25869b481"
      },
      "execution_count": 48,
      "outputs": [
        {
          "output_type": "stream",
          "name": "stdout",
          "text": [
            "Tasks loaded successfully.\n",
            "\n",
            "Task Management Menu:\n",
            "1. View Tasks\n",
            "2. Add Task\n",
            "3. Save and Exit\n",
            "Enter your choice: 3\n",
            "Tasks saved successfully to tasks.pkl.\n",
            "Exiting task management system.\n"
          ]
        }
      ]
    },
    {
      "cell_type": "markdown",
      "source": [
        "### ** Social Media Post Analysis**"
      ],
      "metadata": {
        "id": "lI8pNRIS3UJq"
      }
    },
    {
      "cell_type": "code",
      "source": [
        "import re\n",
        "\n",
        "def extract_hashtags(post):\n",
        "    hashtag_pattern = r'#\\w+'\n",
        "    hashtags = re.findall(hashtag_pattern, post)\n",
        "    unique_hashtags = sorted(set(hashtags))\n",
        "    print(\"Unique hashtags in the post (sorted):\")\n",
        "    for tag in unique_hashtags:\n",
        "        print(tag)\n",
        "\n",
        "post = \"Loving the #Python3 journey! #coding #100DaysOfCode #python3 is awesome. #Coding #python\"\n",
        "extract_hashtags(post)\n"
      ],
      "metadata": {
        "colab": {
          "base_uri": "https://localhost:8080/"
        },
        "id": "deP4FIwA3XtJ",
        "outputId": "e92c8181-d671-4b6a-b957-0dd0a99be607"
      },
      "execution_count": 49,
      "outputs": [
        {
          "output_type": "stream",
          "name": "stdout",
          "text": [
            "Unique hashtags in the post (sorted):\n",
            "#100DaysOfCode\n",
            "#Coding\n",
            "#Python3\n",
            "#coding\n",
            "#python\n",
            "#python3\n"
          ]
        }
      ]
    }
  ]
}
